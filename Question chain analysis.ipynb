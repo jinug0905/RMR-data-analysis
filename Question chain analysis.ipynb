{
 "cells": [
  {
   "cell_type": "code",
   "execution_count": 1,
   "id": "240f2b26-fc3a-4bb8-b8f5-980d7da8feea",
   "metadata": {},
   "outputs": [],
   "source": [
    "import pandas as pd"
   ]
  },
  {
   "cell_type": "code",
   "execution_count": 2,
   "id": "a334c891-fcc5-44c6-a67d-65ddd042d36e",
   "metadata": {},
   "outputs": [],
   "source": [
    "df_all = pd.read_csv(\"data/rmr_answers-2025-03.csv\")"
   ]
  },
  {
   "cell_type": "code",
   "execution_count": 3,
   "id": "3da63c06-ba69-4e66-9f0c-17d98b9d7d4d",
   "metadata": {},
   "outputs": [],
   "source": [
    "def get_state(lat, lng):\n",
    "    # Bounding box for Texas\n",
    "    if 25 <= lat <= 36.5 and -106.65 <= lng <= -93.5:\n",
    "        return 'Texas'\n",
    "    # Bounding box for California\n",
    "    elif 32 <= lat <= 42 and -124.4 <= lng <= -114.1:\n",
    "        return 'California'\n",
    "    else:\n",
    "        return 'Unknown'\n",
    "\n",
    "df_all['state'] = df_all.apply(lambda row: get_state(row['start_stop_lat'], row['start_stop_lng']), axis=1)\n",
    "df_texas = df_all[df_all['state'] == 'Texas'].copy()\n",
    "df_california = df_all[df_all['state'] == 'California'].copy()"
   ]
  },
  {
   "cell_type": "code",
   "execution_count": 4,
   "id": "d51fa131-514d-4472-b737-c2eef710b9f8",
   "metadata": {},
   "outputs": [
    {
     "data": {
      "text/plain": [
       "(100933, 31)"
      ]
     },
     "execution_count": 4,
     "metadata": {},
     "output_type": "execute_result"
    }
   ],
   "source": [
    "df_texas.shape"
   ]
  },
  {
   "cell_type": "code",
   "execution_count": 5,
   "id": "2398490f-7962-4ada-95b1-77bd46dab716",
   "metadata": {
    "scrolled": true
   },
   "outputs": [
    {
     "data": {
      "text/plain": [
       "(829516, 31)"
      ]
     },
     "execution_count": 5,
     "metadata": {},
     "output_type": "execute_result"
    }
   ],
   "source": [
    "df_california.shape"
   ]
  },
  {
   "cell_type": "code",
   "execution_count": 8,
   "id": "4a58489b-df18-4f45-bc76-8f2c795111e3",
   "metadata": {},
   "outputs": [
    {
     "name": "stdout",
     "output_type": "stream",
     "text": [
      "Chains of Questions and Answers:\n",
      "                            user_trip_id  chain_id  \\\n",
      "0   06a166b6-70f2-41de-8e2d-d3958997f6aa         1   \n",
      "1   0a59cf27-be0e-4a47-abf3-9a98cce6858d         1   \n",
      "2   0b4b1704-057a-4b5e-be27-9e2fad848c84         1   \n",
      "3   0b86affb-87d7-415d-8a02-227220f592cc         1   \n",
      "4   0db4bf52-fba6-42f8-9818-0e64d98bc395         1   \n",
      "5   0eaf6f6b-442b-4971-9254-23f67bc03c12         1   \n",
      "6   16ff3382-13e0-456c-8b59-5f1e0801150d         1   \n",
      "7   193a2f74-dba4-4aa4-ba68-645764eb7b15         1   \n",
      "8   1a4f9b2d-0d36-4eda-a198-2a7e1f063c27         1   \n",
      "9   320bfae6-0b78-4064-819d-607f2b2651d4         1   \n",
      "10  3c873c86-6933-4998-ae95-06c1a890421a         1   \n",
      "11  3c873c86-6933-4998-ae95-06c1a890421a         2   \n",
      "12  51920bc6-72d5-4029-8573-5b4707706bde         1   \n",
      "13  523e4044-ef26-4924-b4d5-03ccc1dd56d7         1   \n",
      "14  5cbd5dca-3a55-4a7a-b661-a7ca6d190401         1   \n",
      "15  6e1607d0-0388-4d9b-97f4-0e7e242a658d         1   \n",
      "16  7144407f-807e-4d6b-90c8-74ce8ab64150         1   \n",
      "17  71edf9c9-a6fa-46d6-8852-1a81e3d75bca         1   \n",
      "18  782a21e3-4b73-430b-825c-21c0130e8664         1   \n",
      "19  7ddd8404-a22f-44ed-9a93-4ab146b57b3e         1   \n",
      "20  8183cb29-eecc-41d5-84fb-8be5a1de219d         1   \n",
      "21  839d995f-58f8-4ae9-b3d4-d23bbe987050         1   \n",
      "22  865d04f4-a4a9-48d8-a8d1-df4a170171fb         1   \n",
      "23  a60e1d3a-d4b1-4fe7-83a6-b85bd66cfdcb         1   \n",
      "24  b278de78-99b0-4c72-95c5-11127d0e7aab         1   \n",
      "25  c90f05ef-1291-40c5-ac4e-74d57618cc8f         1   \n",
      "26  d18c5b25-3062-4fb3-bc54-aa399a18c118         1   \n",
      "27  d40f3d61-b90a-46fe-b3ab-03e9d00cff59         1   \n",
      "28  d8c301b0-b761-457c-8ff1-a1581c7cbb28         1   \n",
      "29  dc185791-72e0-44ea-b8a0-41a7f850547a         1   \n",
      "30  e3a5fbb4-bf7c-4df4-bc2e-705710d17c4e         1   \n",
      "31  eb23b1c2-510c-4dd7-9312-44c4f533c56f         1   \n",
      "32  ef50b971-e883-441e-b525-41b749d01fca         1   \n",
      "33  f5dbfe09-f3fb-4c64-8f9f-11570143029a         1   \n",
      "\n",
      "                                                chain  \n",
      "0   [Did your [vehicle_name] come when you thought...  \n",
      "1   [Did your [vehicle_name] come when you thought...  \n",
      "2   [Did your [vehicle_name] come when you thought...  \n",
      "3   [Did your [vehicle_name] come when you thought...  \n",
      "4   [Did your [vehicle_name] come when you thought...  \n",
      "5   [Did your [vehicle_name] come when you thought...  \n",
      "6   [Did your [vehicle_name] come when the real-ti...  \n",
      "7   [Did your [vehicle_name] come when the real-ti...  \n",
      "8   [Did your [vehicle_name] come when you thought...  \n",
      "9   [Did your [vehicle_name] come when the real-ti...  \n",
      "10  [Did your [vehicle_name] come when the real-ti...  \n",
      "11  [Did your [vehicle_name] come when you thought...  \n",
      "12  [Did your [vehicle_name] come when you thought...  \n",
      "13  [Did your [vehicle_name] come when you thought...  \n",
      "14  [Did your [vehicle_name] come when the real-ti...  \n",
      "15  [Did your [vehicle_name] come when you thought...  \n",
      "16  [Did your [vehicle_name] come when the real-ti...  \n",
      "17  [Did your [vehicle_name] come when the real-ti...  \n",
      "18  [Did your [vehicle_name] come when you thought...  \n",
      "19  [Did your [vehicle_name] come when you thought...  \n",
      "20  [Did your [vehicle_name] come when the real-ti...  \n",
      "21  [Did your [vehicle_name] come when you thought...  \n",
      "22  [Did your [vehicle_name] come when you thought...  \n",
      "23  [Did your [vehicle_name] come when you thought...  \n",
      "24  [Did your [vehicle_name] come when you thought...  \n",
      "25  [Did your [vehicle_name] come when the real-ti...  \n",
      "26  [Did your [vehicle_name] come when you thought...  \n",
      "27  [Did your [vehicle_name] come when you thought...  \n",
      "28  [Did your [vehicle_name] come when you thought...  \n",
      "29  [Did your [vehicle_name] come when you thought...  \n",
      "30  [Did your [vehicle_name] come when the real-ti...  \n",
      "31  [Did your [vehicle_name] come when you thought...  \n",
      "32  [Did your [vehicle_name] come when the real-ti...  \n",
      "33  [Did your [vehicle_name] come when you thought...  \n"
     ]
    },
    {
     "name": "stderr",
     "output_type": "stream",
     "text": [
      "C:\\Users\\J-Lee\\AppData\\Local\\Temp\\ipykernel_6100\\1489037058.py:28: DeprecationWarning: DataFrameGroupBy.apply operated on the grouping columns. This behavior is deprecated, and in a future version of pandas the grouping columns will be excluded from the operation. Either pass `include_groups=False` to exclude the groupings or explicitly select the grouping columns after groupby to silence this warning.\n",
      "  chains_df = df_fare.groupby([\"user_trip_id\", \"chain_id\"]).apply(build_chain).reset_index(name='chain')\n"
     ]
    }
   ],
   "source": [
    "# df_fare = df_texas[df_texas[\"question_id\"].str.startswith(\"fare_payment\")].copy()\n",
    "df = df_texas[(df_texas[\"question_id\"] == \"on_time_schedule_v2\") | \n",
    "                    (df_texas[\"question_id\"] == \"on_time_real_time_v2\") | \n",
    "                    (df_texas[\"question_id\"] == \"on_time\")]\n",
    "\n",
    "df = df.sort_values([\"user_trip_id\", \"datetime_local_timezone\"])\n",
    "\n",
    "# Create a chain identifier.\n",
    "# if 'followed_up_from_question_title' is NaN, start new chain\n",
    "df[\"chain_id\"] = df.groupby(\"user_trip_id\")[\"followed_up_from_question_title\"]\\\n",
    "                             .transform(lambda x: x.isnull().cumsum())\n",
    "\n",
    "# Chain func\n",
    "def build_chain(group):\n",
    "    sorted_group = group.sort_values(\"datetime_local_timezone\")\n",
    "    chain = []\n",
    "    for _, row in sorted_group.iterrows():\n",
    "        chain.append(row['question_title'])\n",
    "        chain.append(row['answer_title'])\n",
    "    return chain\n",
    "\n",
    "chains_df = df.groupby([\"user_trip_id\", \"chain_id\"]).apply(build_chain).reset_index(name='chain')\n",
    "\n",
    "# print(\"Chains of Questions and Answers:\")\n",
    "# print(chains_df)\n",
    "\n",
    "chains_df.to_csv(\"texas_chains.csv\")"
   ]
  },
  {
   "cell_type": "code",
   "execution_count": 9,
   "id": "dcf00dd9-73a5-4660-976b-745f4aab5452",
   "metadata": {},
   "outputs": [
    {
     "name": "stdout",
     "output_type": "stream",
     "text": [
      "Unique chain combinations and their counts:\n",
      "                                         chain_combo  count\n",
      "0  (Did your [vehicle_name] come when you thought...     11\n",
      "1  (Did your [vehicle_name] come when you thought...     10\n",
      "2  (Did your [vehicle_name] come when the real-ti...      7\n",
      "3  (Did your [vehicle_name] come when the real-ti...      2\n",
      "4  (Did your [vehicle_name] come when the real-ti...      2\n",
      "5  (Did your [vehicle_name] come when you thought...      2\n"
     ]
    }
   ],
   "source": [
    "chains_df[\"chain_tuple\"] = chains_df[\"chain\"].apply(tuple)\n",
    "\n",
    "unique_chain_counts = chains_df[\"chain_tuple\"].value_counts().reset_index()\n",
    "unique_chain_counts.columns = ['chain_combo', 'count']\n",
    "\n",
    "print(\"Unique chain combinations and their counts:\")\n",
    "print(unique_chain_counts)\n",
    "unique_chain_counts.to_csv(\"result/ontime/202503/texas_unique chain.csv\")"
   ]
  },
  {
   "cell_type": "code",
   "execution_count": null,
   "id": "cc0d5ed7-e2db-4410-bf12-fb089aa43785",
   "metadata": {},
   "outputs": [],
   "source": []
  }
 ],
 "metadata": {
  "kernelspec": {
   "display_name": "Python 3 (ipykernel)",
   "language": "python",
   "name": "python3"
  },
  "language_info": {
   "codemirror_mode": {
    "name": "ipython",
    "version": 3
   },
   "file_extension": ".py",
   "mimetype": "text/x-python",
   "name": "python",
   "nbconvert_exporter": "python",
   "pygments_lexer": "ipython3",
   "version": "3.12.9"
  }
 },
 "nbformat": 4,
 "nbformat_minor": 5
}
